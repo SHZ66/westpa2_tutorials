{
 "cells": [
  {
   "cell_type": "markdown",
   "metadata": {},
   "source": [
    "# Analysis of kinetic properties: Mean First Passage Time (MFPT) and Committors\n",
    "\n",
    " In this jupyter notebook the M-WEM results will be analyzed to compute the mean first passage time (MFPT) of transtion between the two states in Alanine dipeptide and also to compute the committor along the milestoning coordinate $\\Phi$. This notebook is to be run first (before doing free energy analysis) as the files needed for free energy landscape calculation will be produced by this notebook. "
   ]
  },
  {
   "cell_type": "markdown",
   "metadata": {},
   "source": [
    "### Import modules for analysis ###"
   ]
  },
  {
   "cell_type": "code",
   "execution_count": 1,
   "metadata": {},
   "outputs": [],
   "source": [
    "import numpy as np\n",
    "import pickle\n",
    "import scipy.stats as st\n",
    "import mwem\n",
    "import matplotlib.pyplot as plt\n",
    "import scipy.stats as st"
   ]
  },
  {
   "cell_type": "markdown",
   "metadata": {},
   "source": [
    "## Analysis ##\n",
    "\n",
    "The below cell is most important in the analysis of M-WEM trajectories. Here we analyze all the ```crossings.pkl``` (and other crossings files) and ```weights.txt``` file (and other weights files) generated from the west.h5 files. This cell, when correctly executed, will produce the following:\n",
    "\n",
    "1. A file named ```MFPT_convergence_no_err.dat``` containing the value of MFPT as function of iteration\n",
    "2. A cell probability file for each iteration in the ```cell_probability``` directory. These files are named as follows: ```cell_prob_10.dat``` contains the equilibrium probability distribution in each cell after iteration 10. The first column is the centers of each cell and the second column is the normalized probabilities.  \n",
    "3. A set of ```N_i_j_x.dat``` files (x = iteration) in the ```N_i_j_files``` directory: These files contain the $N_{ij}$ matrix elements and can be used to check whether certain milestone-to-milestone transitions are undersampled. \n",
    "4. A set of ```R_i_x.dat``` files (x = iteration) in the ```R_i_files``` directory: These files contain the $R_{i}$ vector elements.\n",
    "\n",
    "The $N_{ij}$ and $R_{i}$ matrix elements are used to compute the rate matrix $Q_{ij}$ (Ref. 1) from which kinetics is computed. The $N_{ij}$ matrix elements are used to calculate committor so they are printed seperately. But one can also check the $N_{ij}$ matrix elements to get a qualitative idea of the quality of sampling. If the sampling is poor around milesone $i$, the $N_{i,i-1}$ and $N_{i,i+1}$ elements can be different from each other by several orders of magnitude.\n",
    "\n",
    "If commitor calculation is not necessary, one can set ```returnNR=False``` in ```mwem.milestoning``` function. Then $N_{ij}$ and $R_{i}$ matrix elements will not be returned."
   ]
  },
  {
   "cell_type": "code",
   "execution_count": 2,
   "metadata": {},
   "outputs": [
    {
     "name": "stdout",
     "output_type": "stream",
     "text": [
      "Iterartion  2  done\n",
      "Iterartion  4  done\n",
      "Iterartion  6  done\n",
      "Iterartion  8  done\n",
      "Iterartion  10  done\n",
      "Iterartion  20  done\n",
      "Iterartion  30  done\n",
      "Iterartion  40  done\n",
      "Iterartion  50  done\n",
      "Iterartion  60  done\n",
      "Iterartion  70  done\n",
      "Iterartion  80  done\n",
      "Iterartion  90  done\n",
      "Iterartion  100  done\n"
     ]
    }
   ],
   "source": [
    "milestones = [-80.0, -60.0, -40.0, -20.0, 0.0, 20.0, 40.0, 60.0, 80.0]\n",
    "\n",
    "indices = [0,1,2,3,4,5,6,7]\n",
    "\n",
    "\n",
    "num_iter_list = [ 2, 4, 6, 8, 10, 20, 30, 40, 50, 60, 70, 80, 90, 100]\n",
    "f1 = open('MFPT_convergence_no_err.dat','w')\n",
    "\n",
    "\n",
    "for num_iter in num_iter_list:\n",
    "    if num_iter == 100:\n",
    "        crossings_file = 'crossings.pkl'\n",
    "        weights_file = 'weights.txt'\n",
    "    else :\n",
    "        crossings_file = 'crossings_%d.pkl'%num_iter\n",
    "        weights_file = 'weights_%d.txt'%num_iter\n",
    "\n",
    "    MFPT, k_rev, N_i_j, R_i = mwem.milestoning(crossings_file=crossings_file, weights_file=weights_file, indices=indices, milestones=milestones,\n",
    "        cutoff=1E-8, dt=10*1E-3, start_milestone = 1, end_milestone = len(milestones)-2, radial=False,\n",
    "        cell_prob_file='cell_probability/cell_prob_%d.dat'%num_iter, returnNR=True)\n",
    "\n",
    "\n",
    "    print(num_iter,MFPT,file=f1)\n",
    "\n",
    "    \n",
    "\n",
    "    np.savetxt('N_i_j_files/N_i_j_%d.dat'%num_iter,N_i_j,fmt='%0.2e')\n",
    "    np.savetxt('R_i_files/R_i_%d.dat'%num_iter,R_i,fmt='%0.2e')\n",
    "\n",
    "    print(\"Iterartion \",num_iter,\" done\")\n",
    "\n",
    "f1.close()\n"
   ]
  },
  {
   "cell_type": "markdown",
   "metadata": {},
   "source": [
    "### Plotting of the MFPT ###\n",
    "\n",
    "The following cell makes a plot of the convergence of the MFPT result as function of number of iterations. The MFPT obtained from long unbiased MD simulation is $1583\\pm188$ ps (Ref. 1), which is also shown in the plot."
   ]
  },
  {
   "cell_type": "code",
   "execution_count": 3,
   "metadata": {},
   "outputs": [
    {
     "data": {
      "image/png": "[encoded data removed]",
      "text/plain": [
       "<Figure size 432x288 with 1 Axes>"
      ]
     },
     "metadata": {
      "needs_background": "light"
     },
     "output_type": "display_data"
    }
   ],
   "source": [
    "mfpt_data = np.loadtxt('MFPT_convergence_no_err.dat')\n",
    "\n",
    "plt.plot(mfpt_data[:,0], mfpt_data[:,1], c='g', ls='-', marker='o', lw=2, label='M-WEM' )\n",
    "\n",
    "plt.xlabel('Number of iterations',fontsize=16)\n",
    "plt.ylabel('MFPT (ps)',fontsize=16)\n",
    "plt.ylim(200,3000)\n",
    "plt.xticks(fontsize=14)\n",
    "plt.yticks(fontsize=14)\n",
    "\n",
    "\n",
    "plt.axhline(y=1583,color='r',label='Regular MD')\n",
    "plt.axhspan(1583-188,1583+188,color='pink',alpha=0.6)\n",
    "plt.legend(fontsize=14,ncol=2)\n",
    "plt.show()\n"
   ]
  },
  {
   "cell_type": "markdown",
   "metadata": {},
   "source": [
    "### Error analysis of MFPT (95% confidence interval) ###"
   ]
  },
  {
   "cell_type": "code",
   "execution_count": 4,
   "metadata": {},
   "outputs": [
    {
     "name": "stdout",
     "output_type": "stream",
     "text": [
      "Mean MFPT +/- error (95% confidence interval)\n",
      "668.2848916918656 +/- 34.725654359580176 ps\n"
     ]
    }
   ],
   "source": [
    "l = np.loadtxt('MFPT_convergence_no_err.dat')\n",
    "\n",
    "#compute mean and error at 100 iteration by averaging over \n",
    "#iteration 60-100\n",
    "\n",
    "MFPT_list = l[-5:,1]\n",
    "mean = np.mean(MFPT_list)\n",
    "conf = st.t.interval(alpha=0.95, df=len(MFPT_list)-1, loc=np.mean(MFPT_list), scale=st.sem(MFPT_list))\n",
    "\n",
    "\n",
    "print(\"Mean MFPT +/- error (95% confidence interval)\")\n",
    "print(mean, '+/-', mean-conf[0], 'ps' )\n"
   ]
  },
  {
   "cell_type": "markdown",
   "metadata": {},
   "source": [
    "### Committor calculation ###\n",
    "\n",
    "The committor values at the milestone interfaces (i.e. along the milestoning reaction coordinate) is calculated in the next cell. First, the transition matrix ($\\mathbf{K}$) is constructed from $N_{ij}$ matrix elements. Then the committor vector ($\\mathbf{C}$) is computed from $\\mathbf{K}$. "
   ]
  },
  {
   "cell_type": "code",
   "execution_count": 5,
   "metadata": {},
   "outputs": [
    {
     "name": "stdout",
     "output_type": "stream",
     "text": [
      "converged at iteration:  20\n",
      "converged at iteration:  21\n",
      "converged at iteration:  20\n",
      "converged at iteration:  20\n",
      "converged at iteration:  20\n"
     ]
    }
   ],
   "source": [
    "iters = [60, 70, 80, 90, 100]\n",
    "\n",
    "for num_iter in iters:\n",
    "    N_i_j = np.loadtxt('N_i_j_files/N_i_j_%d.dat'%num_iter)\n",
    "    K = mwem.K_matrix(N_i_j)\n",
    "    #print(K)\n",
    "    C = mwem.committor(K,tol=1E-4,Niter=100)\n",
    "\n",
    "    f1 = open('committor/committor_%d.dat'%num_iter,'w')\n",
    "\n",
    "    for i in range(len(C)):\n",
    "        print(milestones[i],C[i],file=f1)\n",
    "\n",
    "    f1.close()"
   ]
  },
  {
   "cell_type": "markdown",
   "metadata": {},
   "source": [
    "### Plotting of Committor values ###"
   ]
  },
  {
   "cell_type": "code",
   "execution_count": 6,
   "metadata": {},
   "outputs": [
    {
     "data": {
      "image/png": "[encoded data removed]",
      "text/plain": [
       "<Figure size 432x288 with 1 Axes>"
      ]
     },
     "metadata": {
      "needs_background": "light"
     },
     "output_type": "display_data"
    }
   ],
   "source": [
    "#compute errors of committor profile\n",
    "committor1 = np.loadtxt('committor/committor_60.dat')\n",
    "committor2 = np.loadtxt('committor/committor_70.dat')\n",
    "committor3 = np.loadtxt('committor/committor_80.dat')\n",
    "committor4 = np.loadtxt('committor/committor_90.dat')\n",
    "committor5 = np.loadtxt('committor/committor_100.dat')\n",
    "\n",
    "plt.plot(committor1[:,0], committor1[:,1], 'b', ls='-',lw=1, label='60 iterations' )\n",
    "plt.plot(committor2[:,0], committor2[:,1], 'r', ls='-',lw=1, label='70 iterations' )\n",
    "plt.plot(committor3[:,0], committor3[:,1], 'g', ls='-',lw=1, label='80 iterations' )\n",
    "plt.plot(committor4[:,0], committor4[:,1], 'k', ls='-',lw=1, label='90 iterations' )\n",
    "plt.plot(committor5[:,0], committor5[:,1], 'orange', ls='-',lw=1, label='100 iterations' )\n",
    "\n",
    "\n",
    "plt.xlabel('$\\Phi (^{\\circ})$',fontsize=16)\n",
    "plt.ylabel('Committor',fontsize=16)\n",
    "#plt.legend(fontsize=16,ncol=1,loc=\"upper right\")\n",
    "plt.xticks(fontsize=14)\n",
    "plt.yticks(fontsize=14)\n",
    "plt.legend(fontsize=14)\n",
    "plt.show()"
   ]
  },
  {
   "cell_type": "markdown",
   "metadata": {},
   "source": [
    "### References ###\n",
    "\n",
    "1.  \"Markovian Weighted Ensemble Milestoning (M-WEM): Long-time Kinetics from Short Trajectories\" Dhiman Ray, Sharon E. Stone, Ioan Andricioaei, J. Chem. Theory Comput. 2022, 18, 1, 79–95 https://doi.org/10.1021/acs.jctc.1c00803"
   ]
  },
  {
   "cell_type": "code",
   "execution_count": null,
   "metadata": {},
   "outputs": [],
   "source": []
  }
 ],
 "metadata": {
  "kernelspec": {
   "display_name": "westpa2",
   "language": "python",
   "name": "westpa2"
  },
  "language_info": {
   "codemirror_mode": {
    "name": "ipython",
    "version": 3
   },
   "file_extension": ".py",
   "mimetype": "text/x-python",
   "name": "python",
   "nbconvert_exporter": "python",
   "pygments_lexer": "ipython3",
   "version": "3.7.12"
  }
 },
 "nbformat": 4,
 "nbformat_minor": 2
}
