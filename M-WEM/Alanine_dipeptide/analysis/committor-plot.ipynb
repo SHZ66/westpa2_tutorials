{
 "cells": [
  {
   "cell_type": "code",
   "execution_count": 1,
   "metadata": {},
   "outputs": [],
   "source": [
    "import numpy as np\n",
    "import matplotlib.pyplot as plt\n",
    "import scipy.stats as st"
   ]
  },
  {
   "cell_type": "code",
   "execution_count": 2,
   "metadata": {},
   "outputs": [
    {
     "name": "stderr",
     "output_type": "stream",
     "text": [
      "/home/dhiman/.local/lib/python3.6/site-packages/scipy/stats/_distn_infrastructure.py:1983: RuntimeWarning: invalid value encountered in multiply\n",
      "  lower_bound = _a * scale + loc\n",
      "/home/dhiman/.local/lib/python3.6/site-packages/scipy/stats/_distn_infrastructure.py:1984: RuntimeWarning: invalid value encountered in multiply\n",
      "  upper_bound = _b * scale + loc\n"
     ]
    }
   ],
   "source": [
    "#compute errors of committor profile\n",
    "committor1 = np.loadtxt('trial_1/dataset/committor/committor_60.dat')\n",
    "committor2 = np.loadtxt('trial_1/dataset/committor/committor_70.dat')\n",
    "committor3 = np.loadtxt('trial_1/dataset/committor/committor_80.dat')\n",
    "committor4 = np.loadtxt('trial_1/dataset/committor/committor_90.dat')\n",
    "committor5 = np.loadtxt('trial_1/dataset/committor/committor_100.dat')\n",
    "\n",
    "committor_mean_1 = np.zeros(len(committor1))\n",
    "committor_conf_low_1 = np.zeros(len(committor1))\n",
    "committor_conf_high_1 = np.zeros(len(committor1))\n",
    "\n",
    "for i in range(len(committor_mean_1)):\n",
    "    a = [committor1[i,1],committor2[i,1],committor3[i,1],committor4[i,1],committor5[i,1]]\n",
    "    a = np.array(a)\n",
    "    committor_mean_1[i] = np.mean(a)\n",
    "    conf = st.t.interval(alpha=0.95, df=len(a)-1, loc=np.mean(a), scale=st.sem(a))\n",
    "    committor_conf_low_1[i] = conf[0]\n",
    "    committor_conf_high_1[i] = conf[1]\n",
    "    \n",
    "\n",
    "    \n"
   ]
  },
  {
   "cell_type": "code",
   "execution_count": 3,
   "metadata": {},
   "outputs": [],
   "source": [
    "#compute errors of committor profile\n",
    "committor1 = np.loadtxt('trial_2/dataset/committor/committor_60.dat')\n",
    "committor2 = np.loadtxt('trial_2/dataset/committor/committor_70.dat')\n",
    "committor3 = np.loadtxt('trial_2/dataset/committor/committor_80.dat')\n",
    "committor4 = np.loadtxt('trial_2/dataset/committor/committor_90.dat')\n",
    "committor5 = np.loadtxt('trial_2/dataset/committor/committor_100.dat')\n",
    "\n",
    "committor_mean_2 = np.zeros(len(committor1))\n",
    "committor_conf_low_2 = np.zeros(len(committor1))\n",
    "committor_conf_high_2 = np.zeros(len(committor1))\n",
    "\n",
    "for i in range(len(committor_mean_2)):\n",
    "    a = [committor1[i,1],committor2[i,1],committor3[i,1],committor4[i,1],committor5[i,1]]\n",
    "    a = np.array(a)\n",
    "    committor_mean_2[i] = np.mean(a)\n",
    "    conf = st.t.interval(alpha=0.95, df=len(a)-1, loc=np.mean(a), scale=st.sem(a))\n",
    "    committor_conf_low_2[i] = conf[0]\n",
    "    committor_conf_high_2[i] = conf[1]"
   ]
  },
  {
   "cell_type": "code",
   "execution_count": 4,
   "metadata": {},
   "outputs": [],
   "source": [
    "#compute errors of committor profile\n",
    "committor1 = np.loadtxt('trial_3/dataset/committor/committor_60.dat')\n",
    "committor2 = np.loadtxt('trial_3/dataset/committor/committor_70.dat')\n",
    "committor3 = np.loadtxt('trial_3/dataset/committor/committor_80.dat')\n",
    "committor4 = np.loadtxt('trial_3/dataset/committor/committor_90.dat')\n",
    "committor5 = np.loadtxt('trial_3/dataset/committor/committor_100.dat')\n",
    "\n",
    "committor_mean_3 = np.zeros(len(committor1))\n",
    "committor_conf_low_3 = np.zeros(len(committor1))\n",
    "committor_conf_high_3 = np.zeros(len(committor1))\n",
    "\n",
    "for i in range(len(committor_mean_3)):\n",
    "    a = [committor1[i,1],committor2[i,1],committor3[i,1],committor4[i,1],committor5[i,1]]\n",
    "    a = np.array(a)\n",
    "    committor_mean_3[i] = np.mean(a)\n",
    "    conf = st.t.interval(alpha=0.95, df=len(a)-1, loc=np.mean(a), scale=st.sem(a))\n",
    "    committor_conf_low_3[i] = conf[0]\n",
    "    committor_conf_high_3[i] = conf[1]"
   ]
  },
  {
   "cell_type": "code",
   "execution_count": 8,
   "metadata": {},
   "outputs": [
    {
     "data": {
      "image/png": "[encoded data removed]",
      "text/plain": [
       "<Figure size 432x288 with 1 Axes>"
      ]
     },
     "metadata": {
      "needs_background": "light"
     },
     "output_type": "display_data"
    }
   ],
   "source": [
    "\n",
    "plt.plot(committor1[:,0], committor_mean_1, 'b', ls='--',lw=2, label='M-WEM trial 1' )\n",
    "\n",
    "plt.fill_between(committor1[:,0], committor_conf_low_1, committor_conf_high_1, facecolor='xkcd:lightblue', alpha=0.8)\n",
    "\n",
    "plt.plot(committor1[:,0], committor_mean_2, 'g', ls='--',lw=2, label='M-WEM trial 2' )\n",
    "\n",
    "plt.fill_between(committor1[:,0], committor_conf_low_2, committor_conf_high_2, facecolor='xkcd:lightgreen', alpha=0.8)\n",
    "\n",
    "plt.plot(committor1[:,0], committor_mean_3, 'r', ls='--',lw=2, label='M-WEM trial 3' )\n",
    "\n",
    "plt.fill_between(committor1[:,0], committor_conf_low_3, committor_conf_high_3, facecolor='pink', alpha=0.8)\n",
    "\n",
    "plt.xlabel('$\\Phi (^{\\circ})$',fontsize=16)\n",
    "plt.ylabel('Committor',fontsize=16)\n",
    "#plt.legend(fontsize=16,ncol=1,loc=\"upper right\")\n",
    "plt.xticks(fontsize=14)\n",
    "plt.yticks(fontsize=14)\n",
    "plt.legend(fontsize=14)\n",
    "#plt.xlim(-0.5,13)\n",
    "#plt.ylim(0,1.1)\n",
    "plt.savefig('Ala2_committor.pdf',bbox_inches='tight')\n",
    "#plt.savefig('Trp_Ben_1D-FreeE.png',dpi=200,bbox_inches='tight')"
   ]
  },
  {
   "cell_type": "code",
   "execution_count": null,
   "metadata": {},
   "outputs": [],
   "source": []
  }
 ],
 "metadata": {
  "kernelspec": {
   "display_name": "Python 3",
   "language": "python",
   "name": "python3"
  },
  "language_info": {
   "codemirror_mode": {
    "name": "ipython",
    "version": 3
   },
   "file_extension": ".py",
   "mimetype": "text/x-python",
   "name": "python",
   "nbconvert_exporter": "python",
   "pygments_lexer": "ipython3",
   "version": "3.6.8"
  }
 },
 "nbformat": 4,
 "nbformat_minor": 2
}
