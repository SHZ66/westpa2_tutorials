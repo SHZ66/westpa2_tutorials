{
 "cells": [
  {
   "cell_type": "markdown",
   "id": "c1c96a90",
   "metadata": {},
   "source": [
    "# Tutorial 1: Coarse-grained protein-protein binding simulation \n",
    "Author: Jeremy Leung<br>\n",
    "Email:&nbsp;&nbsp; jml230@pitt.edu"
   ]
  },
  {
   "cell_type": "markdown",
   "id": "f0a929ff",
   "metadata": {},
   "source": [
    "## Introduction\n",
    "\n",
    "This tutorial involves running a coarse-grained protein-protein binding simulation using WESTPA's new binless resampler module. Users will also learn how to run dynamics through BioSimSpace."
   ]
  },
  {
   "cell_type": "markdown",
   "id": "c8724bc7",
   "metadata": {},
   "source": [
    "## Learning Objectives\n"
   ]
  },
  {
   "cell_type": "markdown",
   "id": "882c9167",
   "metadata": {},
   "source": [
    "- Learn to customize the WESTPA's new binless resampler module.\n",
    "- Run a protein-protein binding simulation using the \"group by history\" scheme."
   ]
  },
  {
   "cell_type": "markdown",
   "id": "bf50a0c5",
   "metadata": {},
   "source": [
    "## System Requirements"
   ]
  },
  {
   "cell_type": "markdown",
   "id": "6b146e53",
   "metadata": {},
   "source": [
    "- AmberTools, numpy, matplotlib, ipympyl, mdtraj, and nglview are used in this tutorial. \n",
    "    - Install them using pip or conda install. It is recommended that you install all of them in a brand new conda environment for the purpose of this tutorial.\n",
    "- mdtraj, nglview, matplotlib, ipympl, and numpy are optional for visualization purposes.\n",
    "- AmberTools is necessary to run the simulation."
   ]
  },
  {
   "cell_type": "markdown",
   "id": "06ccca0c",
   "metadata": {},
   "source": [
    "## Preparing the BnBs System"
   ]
  },
  {
   "cell_type": "markdown",
   "id": "748213b9",
   "metadata": {},
   "source": [
    "#### Preparing the protein structures"
   ]
  },
  {
   "cell_type": "markdown",
   "id": "8dc8cfc7",
   "metadata": {},
   "source": [
    "Because of the variability and lengthy steps required in preparing your Barnase-Barstar system, we will only outline the essential steps and resources on how to do that. A sample set of prepared structures are provided as part of this tutorial. Make sure to check your system at regular intervals as you proceed.\n",
    "\n",
    "1. Download 1BRS from the [Protein Data Bank](https://www.rcsb.org/structure/1BRS).\n",
    "2. Extract and refine the structure of one of the Barnase-Barstar pairs. Chains C and F are chosen for this tutorial. (e.g. using [Molprobity](http://molprobity.biochem.duke.edu/))\n",
    "\n",
    "Minimize, re-solvate and equilibrate the system after each of the following steps, if possible. Restrain the protein backbone during the process.\n",
    "\n",
    "3. Fill in the missing atoms with your program of choice. (e.g. using [Chimera](https://www.cgl.ucsf.edu/chimera/))\n",
    "4. Coarse-grain and prepare your model following the instructions of the [SIRAH Forcefield](https://www.rcsb.org/structure/1BRS). We suggest following [Tutorial 5](http://www.sirahff.com/2012/08/sirah-forcefield-in-amber.html).\n",
    "5. Separate your proteins to 15Å apart and generate multiple structures that are similarly solvated with the same amount of atoms. Example code listed here."
   ]
  },
  {
   "cell_type": "markdown",
   "id": "24abecae",
   "metadata": {},
   "source": [
    "#### Visualization of the Barnase-Barstar System"
   ]
  },
  {
   "cell_type": "markdown",
   "id": "98fe3e75",
   "metadata": {},
   "source": [
    "We will now take a look at how one of the systems looks like after preparation. The water box is omitted for visibility. Barnase is red and Barstar is blue in the representation."
   ]
  },
  {
   "cell_type": "code",
   "execution_count": 1,
   "id": "cc8af4db",
   "metadata": {
    "scrolled": true
   },
   "outputs": [
    {
     "data": {
      "application/vnd.jupyter.widget-view+json": {
       "model_id": "e11ab385fdd44bd0b19f023c7ffbdf84",
       "version_major": 2,
       "version_minor": 0
      },
      "text/plain": []
     },
     "metadata": {},
     "output_type": "display_data"
    },
    {
     "data": {
      "application/vnd.jupyter.widget-view+json": {
       "model_id": "685e0f2d19d04a7ba82b5bfe97a27161",
       "version_major": 2,
       "version_minor": 0
      },
      "text/plain": [
       "NGLWidget(background='')"
      ]
     },
     "metadata": {},
     "output_type": "display_data"
    }
   ],
   "source": [
    "import mdtraj\n",
    "import nglview\n",
    "system = mdtraj.load('common_files/1brs_cg_solv.inpcrd', top='common_files/1brs_cg_solv.prmtop')\n",
    "Bn = list(range(0,548)) # Barnase consists of beads #0 to 547, residues #1-110\n",
    "Bs = list(range(548,991)) #Barstar consists of beads # 548 to 991, residues # 111-199\n",
    "proteins = Bn + Bs # Bn + Bs\n",
    "system = system.atom_slice(proteins) # Removing Water and Ions, just the proteins\n",
    "view = nglview.show_mdtraj(system)\n",
    "view.representations = [\n",
    "    {\"type\": \"ball+stick\", \"params\": {\n",
    "        \"sele\": \"0-109\", \"color\": \"red\"\n",
    "    }},\n",
    "    {\"type\": \"ball+stick\", \"params\": {\n",
    "        \"sele\": \"110-198\", \"color\": \"blue\"\n",
    "    }}\n",
    "]\n",
    "view.background = ''\n",
    "view"
   ]
  },
  {
   "cell_type": "markdown",
   "id": "07278179",
   "metadata": {},
   "source": [
    "The barnase-barstar simulation in this tutorial involves starting a weighted ensemble simulation with multiple basis states. The starting structures (after recycling or in iteration 1) are picked from the probabilities listed in 'bstates/bstates.txt'."
   ]
  },
  {
   "cell_type": "code",
   "execution_count": 2,
   "id": "6bd51296",
   "metadata": {},
   "outputs": [
    {
     "name": "stdout",
     "output_type": "stream",
     "text": [
      "Done\n"
     ]
    }
   ],
   "source": [
    "import numpy\n",
    "import mdtraj\n",
    "import nglview\n",
    "lst = numpy.loadtxt('bstates/bstates.txt', usecols=2, dtype=str) # Reading basis state names\n",
    "tpg = 'common_files/basis_all.prmtop' # Topology File for basis state (Shared between all bstates)\n",
    "\n",
    "# Reading reference and setup\n",
    "com = [] # list containing all CoM\n",
    "a = mdtraj.load('reference/1brs_cg_eq2_resolv.pdb')\n",
    "a_slice = a.atom_slice(list(range(0,548))) # Just barnase\n",
    "com.append(numpy.squeeze(mdtraj.compute_center_of_mass(a_slice)))\n",
    "a_slice = a.atom_slice(list(range(0,991))) # Both barnase + barstar\n",
    "\n",
    "# Loading and superposing, storing Center of Mass (CoM) to list for heatmap\n",
    "c = a_slice\n",
    "for i in lst:\n",
    "    b = mdtraj.load('bstates/' + i, top=tpg)\n",
    "    b = b.atom_slice(list(range(0,991)))\n",
    "    b.superpose(a_slice,atom_indices=list(range(0,548)))\n",
    "    c = mdtraj.join([c,b], check_topology=False)\n",
    "    # Just saving the CoM of barstar, since barnase is superimposed\n",
    "    com.append(numpy.squeeze(mdtraj.compute_center_of_mass(b.atom_slice(list(range(548,991))))))\n",
    "com = numpy.asarray(com)\n",
    "print('Done')"
   ]
  },
  {
   "cell_type": "code",
   "execution_count": 3,
   "id": "a6f398f0",
   "metadata": {
    "scrolled": true
   },
   "outputs": [
    {
     "data": {
      "application/vnd.jupyter.widget-view+json": {
       "model_id": "361ac0ab2f26412cb40e463673d212f1",
       "version_major": 2,
       "version_minor": 0
      },
      "text/plain": [
       "NGLWidget(max_frame=20)"
      ]
     },
     "metadata": {},
     "output_type": "display_data"
    }
   ],
   "source": [
    "# Looking at all bstates frame-by-frame, assuming you ran the previous cell\n",
    "view2 = nglview.show_mdtraj(c)\n",
    "view2.representations = [\n",
    "    {\"type\": \"ball+stick\", \"params\": {\n",
    "        \"sele\": \"0-109\", \"color\": \"red\"\n",
    "    }},\n",
    "    {\"type\": \"ball+stick\", \"params\": {\n",
    "        \"sele\": \"110-198\", \"color\": \"blue\"\n",
    "    }}\n",
    "]\n",
    "view2.center('0-109')\n",
    "view2.control.zoom(-1.25)\n",
    "view2"
   ]
  },
  {
   "cell_type": "code",
   "execution_count": 4,
   "id": "9458604b",
   "metadata": {},
   "outputs": [
    {
     "data": {
      "application/vnd.jupyter.widget-view+json": {
       "model_id": "9504afa629e342fc9fae19bf4334de71",
       "version_major": 2,
       "version_minor": 0
      },
      "text/plain": [
       "Canvas(toolbar=Toolbar(toolitems=[('Home', 'Reset original view', 'home', 'home'), ('Back', 'Back to previous …"
      ]
     },
     "metadata": {},
     "output_type": "display_data"
    }
   ],
   "source": [
    "# Looking at the coverage of the bstates, assuming you ran the previous 2 cells\n",
    "# Comment out the following line or install ipypml if you have trouble viewing.\n",
    "%matplotlib widget \n",
    "import matplotlib\n",
    "from mpl_toolkits.mplot3d import Axes3D\n",
    "from pylab import *\n",
    "import numpy\n",
    "\n",
    "fig = matplotlib.pyplot.figure(figsize=(7,7))\n",
    "ax = fig.add_subplot(111, projection='3d')\n",
    "\n",
    "img1 = ax.scatter(com[0,0], com[0,1], com[0,2], s=20, marker='s', color='Red', label='Barnase')\n",
    "img2 = ax.scatter(com[1:,0], com[1:,1], com[1:,2], s=50, marker='.', color='Blue', label='Barstar')\n",
    "\n",
    "# Labels and Titles\n",
    "ax.set_title(\"Basis Structures Coverage\")\n",
    "ax.set_xlabel('x-axis')\n",
    "ax.set_ylabel('y-axis')\n",
    "ax.set_zlabel('z-axis')\n",
    "ax.legend()\n",
    "\n",
    "show()"
   ]
  },
  {
   "cell_type": "markdown",
   "id": "c2416f31",
   "metadata": {},
   "source": [
    "## Setting Up the Simulation"
   ]
  },
  {
   "cell_type": "markdown",
   "id": "b5648760",
   "metadata": {},
   "source": [
    "Utilizing the binless module is very similar to that of the default split-merge scheme. It only requires modifying `west.cfg` and attaching a `group.py` python file to dictate how trajectories are grouped."
   ]
  },
  {
   "cell_type": "markdown",
   "id": "615f8163",
   "metadata": {},
   "source": [
    "For this tutorial, the `_find_parent_n()` and `walkers_by_history()` methods in `group.py` are used to group the trajectories. "
   ]
  },
  {
   "cell_type": "code",
   "execution_count": 8,
   "id": "d3a84618",
   "metadata": {
    "scrolled": true
   },
   "outputs": [
    {
     "name": "stdout",
     "output_type": "stream",
     "text": [
      "def _find_parent_n(segment, n):\n",
      "\n",
      "    iteration = (segment.n_iter - 1)\n",
      "\n",
      "    parent_id = segment.parent_id\n",
      "\n",
      "    try:\n",
      "\n",
      "        if (len(segment.id_hist) < n):\n",
      "\n",
      "            segment.id_hist = [(parent_id, iteration)] + segment.id_hist\n",
      "\n",
      "        else:\n",
      "\n",
      "            segment.id_hist.reverse()\n",
      "\n",
      "            segment.id_hist.append((segment.parent_id, (segment.n_iter - 1)))\n",
      "\n",
      "            segment.id_hist.reverse()\n",
      "\n",
      "            del segment.id_hist[n:]\n",
      "\n",
      "        parent_id = segment.id_hist[(len(segment.id_hist) - 1)][0]\n",
      "\n",
      "        iteration = segment.id_hist[(len(segment.id_hist) - 1)][1]\n",
      "\n",
      "    except AttributeError:\n",
      "\n",
      "        data_manager = westpa.rc.get_data_manager()\n",
      "\n",
      "        i = 0\n",
      "\n",
      "        while (i < n) and parent_id >= 0:\n",
      "\n",
      "            seg_id = parent_id\n",
      "\n",
      "            iter_group = data_manager.get_iter_group(iteration)\n",
      "\n",
      "            seg_index = iter_group['seg_index']\n",
      "\n",
      "            parent_id = seg_index[seg_id]['parent_id']\n",
      "\n",
      "            try:\n",
      "\n",
      "                segment.id_hist.append((parent_id, iteration))\n",
      "\n",
      "            except AttributeError:\n",
      "\n",
      "                segment.id_hist = list()\n",
      "\n",
      "                segment.id_hist.append((parent_id, iteration))\n",
      "\n",
      "            iteration -= 1\n",
      "\n",
      "            i += 1\n",
      "\n",
      "        iteration += 1\n",
      "\n",
      "    return (parent_id, iteration)\n",
      "\n"
     ]
    }
   ],
   "source": [
    "# `_find_parent_n()` traces each segment's parent n iterations back and passes it on as an array: \n",
    "with open('group.py') as f:\n",
    "    file = f.readlines()\n",
    "    for i in range(30,60):\n",
    "        print(file[i])"
   ]
  },
  {
   "cell_type": "code",
   "execution_count": 9,
   "id": "e21d1064",
   "metadata": {
    "scrolled": true
   },
   "outputs": [
    {
     "name": "stdout",
     "output_type": "stream",
     "text": [
      "def walkers_by_history(we_driver, ibin, hist_length=25, **kwargs):\n",
      "\n",
      "    '''Groups walkers inside of a bin according to their history.\n",
      "\n",
      "\n",
      "\n",
      "    Creates a group, which takes the same data format as a bin, and then passes into the\n",
      "\n",
      "    normal split/merge functions.'''\n",
      "\n",
      "    # Pass in the bin object instead of the index\n",
      "\n",
      "    log.debug('using group.walkers_by_history')\n",
      "\n",
      "    log.debug('history length: {!r}'.format(hist_length))\n",
      "\n",
      "    bin = we_driver.next_iter_binning[ibin]\n",
      "\n",
      "    groups = dict()\n",
      "\n",
      "    z = 0\n",
      "\n",
      "    for segment in bin:\n",
      "\n",
      "        if segment.n_iter > 1:\n",
      "\n",
      "            ##par_iter = we_driver._find_parent_n(segment, hist_length)\n",
      "\n",
      "            par_iter = _find_parent_n(segment, hist_length)\n",
      "\n",
      "        else:\n",
      "\n",
      "            par_iter = (0, 1)\n",
      "\n",
      "        try:\n",
      "\n",
      "            groups[par_iter].add(segment)\n",
      "\n",
      "        except KeyError:\n",
      "\n",
      "            groups[par_iter] = set([segment])\n",
      "\n"
     ]
    }
   ],
   "source": [
    "# `walkers_by_history()` utilizes that data previously generated by `_find_parent_n()` \n",
    "# to create groups with segments sharing parents. \n",
    "with open('group.py') as f:\n",
    "    file = f.readlines()\n",
    "    for i in range(7,28):\n",
    "        print(file[i])"
   ]
  },
  {
   "cell_type": "code",
   "execution_count": 7,
   "id": "6f2415d6",
   "metadata": {
    "scrolled": false
   },
   "outputs": [
    {
     "name": "stdout",
     "output_type": "stream",
     "text": [
      "  drivers:\n",
      "\n",
      "    we_drivers: default\n",
      "\n",
      "    group_function: group.walkers_by_history\n",
      "\n",
      "    group_arguments:\n",
      "\n",
      "      hist_length: 25\n",
      "\n"
     ]
    }
   ],
   "source": [
    "# The following options in `west.cfg` calls for the walkers_by_history function just before the \n",
    "# split and merging happens. `group_arguments` is a space for user-configurable options for \n",
    "# group functions. `hist_length` dictates how many iterations the function should look back.\n",
    "with open('west.cfg') as f:\n",
    "    file = f.readlines()\n",
    "    for i in range(24,29):\n",
    "        print(file[i])"
   ]
  },
  {
   "cell_type": "markdown",
   "id": "aff00ff7",
   "metadata": {},
   "source": [
    "## Running the Simulation"
   ]
  },
  {
   "cell_type": "markdown",
   "id": "72211c7c",
   "metadata": {},
   "source": [
    "The files to initialize and run the WESTPA simulation are included with this jupyter notebook. The simulation will take a while. Sample completed files for analysis are provided."
   ]
  },
  {
   "cell_type": "markdown",
   "id": "8cbf7a96",
   "metadata": {},
   "source": [
    "## Analyzing the Simulation"
   ]
  },
  {
   "cell_type": "markdown",
   "id": "2fba0809",
   "metadata": {},
   "source": [
    "### See examples above!"
   ]
  },
  {
   "cell_type": "code",
   "execution_count": null,
   "id": "4f493ed0",
   "metadata": {},
   "outputs": [],
   "source": []
  }
 ],
 "metadata": {
  "kernelspec": {
   "display_name": "Python 3 (ipykernel)",
   "language": "python",
   "name": "python3"
  },
  "language_info": {
   "codemirror_mode": {
    "name": "ipython",
    "version": 3
   },
   "file_extension": ".py",
   "mimetype": "text/x-python",
   "name": "python",
   "nbconvert_exporter": "python",
   "pygments_lexer": "ipython3",
   "version": "3.8.10"
  }
 },
 "nbformat": 4,
 "nbformat_minor": 5
}
